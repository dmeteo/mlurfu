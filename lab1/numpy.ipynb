{
  "cells": [
    {
      "cell_type": "markdown",
      "metadata": {
        "id": "vC84e9kzyxPy"
      },
      "source": [
        "<h1>Импорт библиотек"
      ]
    },
    {
      "cell_type": "code",
      "execution_count": 1,
      "metadata": {
        "id": "cgKeNegmQG5S"
      },
      "outputs": [
        {
          "name": "stderr",
          "output_type": "stream",
          "text": [
            "Matplotlib is building the font cache; this may take a moment.\n"
          ]
        }
      ],
      "source": [
        "import numpy as np\n",
        "import matplotlib.pyplot as plt"
      ]
    },
    {
      "cell_type": "markdown",
      "metadata": {
        "id": "qFM9uVU2x4Ls"
      },
      "source": [
        "<h1>Задача 1. Дан набор из $p$ матриц размерностью $(n, n)$ и $p$ векторов размерностью $(n, 1)$, найти сумму произведений матриц на векторы. Написать тесты для кода"
      ]
    },
    {
      "cell_type": "code",
      "execution_count": 11,
      "metadata": {
        "id": "IAbUvEiYyWFF"
      },
      "outputs": [
        {
          "name": "stdout",
          "output_type": "stream",
          "text": [
            "Tests passed\n"
          ]
        }
      ],
      "source": [
        "def sum_prod(X, V):\n",
        "    '''\n",
        "    X - матрицы (n, n)\n",
        "    V - векторы (n, 1)\n",
        "    Гарантируется, что len(X) == len(V)\n",
        "    '''\n",
        "    summa = 0\n",
        "    X = np.array(X)\n",
        "    V = np.array(V)\n",
        "    return np.sum(X @ V)\n",
        "\n",
        "\n",
        "def tests():\n",
        "    X = [[1, 2], [3, 4]]\n",
        "    V = [[1], [1]]\n",
        "    assert sum_prod(X, V) == 10 \n",
        "\n",
        "    X = [[1, 0], [0, 1]]\n",
        "    V = [[2], [3]]\n",
        "    assert sum_prod(X, V) == 5 \n",
        "\n",
        "    X = [[-1, 2], [3, -4]]\n",
        "    V = [[1], [-1]]\n",
        "    assert sum_prod(X, V) == 4 \n",
        "\n",
        "    X = [[5]]\n",
        "    V = [[2]]\n",
        "    assert sum_prod(X, V) == 10\n",
        "\n",
        "    print(\"Tests passed\")\n",
        "\n",
        "tests()"
      ]
    },
    {
      "cell_type": "markdown",
      "metadata": {
        "id": "TKwPG4fIy2w4"
      },
      "source": [
        "<h1>Задача 2. Дана матрица M, напишите функцию, которая бинаризует матрицу по некоторому threshold (то есть, все значения большие threshold становятся равными 1, иначе 0). Напишите тесты для кода"
      ]
    },
    {
      "cell_type": "code",
      "execution_count": 30,
      "metadata": {
        "id": "KQDNMgsjRNH7"
      },
      "outputs": [
        {
          "name": "stdout",
          "output_type": "stream",
          "text": [
            "Tests passed\n"
          ]
        }
      ],
      "source": [
        "def binarize(M, threshold=0.5):\n",
        "    M = np.asarray(M)\n",
        "    return (M > threshold).astype(np.int64)\n",
        "\n",
        "def tests():\n",
        "    assert np.array_equal(binarize([1, 2, 3], 2), [0, 0, 1])\n",
        "\n",
        "    assert np.array_equal(binarize([[0.4, 0.6], [0.5, 0.9]]), \n",
        "                         np.array([[0, 1], [0, 1]]))\n",
        "    \n",
        "    assert np.array_equal(binarize([-2, -1, 0], -1), np.array([0, 0, 1]))\n",
        "\n",
        "    assert np.array_equal(binarize([0.49, 0.50, 0.51]), np.array([0, 0, 1]))\n",
        "    print(\"Tests passed\")\n",
        "\n",
        "tests()"
      ]
    },
    {
      "cell_type": "markdown",
      "metadata": {
        "id": "IY5L-h-7zWhN"
      },
      "source": [
        "<h1>Задача 3. Напишите функцию, которая возвращает уникальные элементы из каждой строки матрицы. Напишите такую же функцию, но для столбцов. Напишите тесты для кода"
      ]
    },
    {
      "cell_type": "code",
      "execution_count": 34,
      "metadata": {
        "id": "-8dEZhR0SBC-"
      },
      "outputs": [
        {
          "name": "stdout",
          "output_type": "stream",
          "text": [
            "Tests passed\n"
          ]
        }
      ],
      "source": [
        "def unique_rows(mat):\n",
        "    return [np.unique(row) for row in np.asarray(mat)]\n",
        "\n",
        "def unique_columns(mat):\n",
        "    return [np.unique(row) for row in np.asarray(mat).T]\n",
        "\n",
        "def test_unique_rows():\n",
        "    mat1 = [[1, 2, 2], \n",
        "            [3, 3, 3], \n",
        "            [4, 5, 5]]\n",
        "    assert [arr.tolist() for arr in unique_rows(mat1)] == [[1, 2], [3], [4, 5]]\n",
        "    \n",
        "    assert unique_rows([]) == []\n",
        "    \n",
        "    mat3 = [[1, 2], [3, 4]]\n",
        "    assert [arr.tolist() for arr in unique_rows(mat3)] == [[1, 2], [3, 4]]\n",
        "    \n",
        "    mat4 = [[1, 1, 2, 2, 3]]\n",
        "    assert [arr.tolist() for arr in unique_rows(mat4)] == [[1, 2, 3]]\n",
        "\n",
        "def test_unique_columns():\n",
        "    mat1 = [[1, 2, 3], \n",
        "            [1, 2, 3], \n",
        "            [4, 2, 3]]\n",
        "    assert [arr.tolist() for arr in unique_columns(mat1)] == [[1, 4], [2], [3]]\n",
        "    \n",
        "    assert unique_columns([]) == []\n",
        "    \n",
        "    mat3 = [[1, 2], [3, 4]]\n",
        "    assert [arr.tolist() for arr in unique_columns(mat3)] == [[1, 3], [2, 4]]\n",
        "    \n",
        "    mat4 = [[1], [1], [2]]\n",
        "    assert [arr.tolist() for arr in unique_columns(mat4)] == [[1, 2]]\n",
        "\n",
        "def run_tests():\n",
        "    test_unique_rows()\n",
        "    test_unique_columns()\n",
        "    print(\"Tests passed\")\n",
        "\n",
        "run_tests()"
      ]
    },
    {
      "cell_type": "markdown",
      "metadata": {
        "id": "roYAlo4Jz-lH"
      },
      "source": [
        "<h1>Задача 4. Напишите функцию, которая заполняет матрицу с размерами $(m, n)$ случайными числами, распределенными по нормальному закону. Затем считает мат. ожидание и дисперсию для каждого из столбцов и строк, а также строит для каждой строки и столбца гистограмму значений (использовать функцию hist из модуля matplotlib.plot)"
      ]
    },
    {
      "cell_type": "code",
      "execution_count": 51,
      "metadata": {
        "id": "nZK_71hMSQzv"
      },
      "outputs": [
        {
          "data": {
            "image/png": "[encoded data removed]",
            "text/plain": [
              "<Figure size 640x480 with 1 Axes>"
            ]
          },
          "metadata": {},
          "output_type": "display_data"
        },
        {
          "data": {
            "image/png": "[encoded data removed]",
            "text/plain": [
              "<Figure size 640x480 with 1 Axes>"
            ]
          },
          "metadata": {},
          "output_type": "display_data"
        },
        {
          "data": {
            "image/png": "[encoded data removed]",
            "text/plain": [
              "<Figure size 640x480 with 1 Axes>"
            ]
          },
          "metadata": {},
          "output_type": "display_data"
        },
        {
          "data": {
            "image/png": "[encoded data removed]",
            "text/plain": [
              "<Figure size 640x480 with 1 Axes>"
            ]
          },
          "metadata": {},
          "output_type": "display_data"
        }
      ],
      "source": [
        "def rand_normal(m,n):\n",
        "    mtx = np.random.normal(size=(m, n))\n",
        "    out_mean_row = [np.mean(row) for row in mtx]\n",
        "    out_var_row = [np.var(row) for row in mtx]\n",
        "    \n",
        "    out_mean_col = [np.mean(col) for col in mtx.T]\n",
        "    out_var_col = [np.var(col) for col in mtx.T]\n",
        "    \n",
        "    return [out_mean_row, out_var_row, out_mean_col, out_var_col]\n",
        "\n",
        "\n",
        "def create_gist(array, title):\n",
        "    plt.figure()\n",
        "    plt.hist(array)\n",
        "    plt.title(title)\n",
        "    plt.show()\n",
        "\n",
        "def task(m, n):\n",
        "    titles = [\"Среднее по строкам\", \"Дисперсия по строкам\", \n",
        "          \"Среднее по столбцам\", \"Дисперсия по столбцам\"]\n",
        "    stats = rand_normal(m, n)\n",
        "    for array, title in zip(stats, titles):\n",
        "        create_gist(array, title)\n",
        "\n",
        "task(4,4)"
      ]
    },
    {
      "cell_type": "markdown",
      "metadata": {
        "id": "BDyATNdM0dJ2"
      },
      "source": [
        "<h1>Задача 5. Напишите функцию, которая заполняет матрицу $(m, n)$ в шахматном порядке заданными числами $a$ и $b$. Напишите тесты для кода"
      ]
    },
    {
      "cell_type": "code",
      "execution_count": 72,
      "metadata": {
        "id": "RWNJYWQGecS6"
      },
      "outputs": [
        {
          "name": "stdout",
          "output_type": "stream",
          "text": [
            "Tests passed\n"
          ]
        }
      ],
      "source": [
        "def chess(m, n, a, b):\n",
        "    matrix = np.full((m, n), a)\n",
        "    matrix[1::2, ::2] = b\n",
        "    matrix[::2, 1::2] = b\n",
        "    return matrix\n",
        "\n",
        "def tests():\n",
        "    assert np.array_equal(chess(3, 3, \"A\", \"B\"), np.array([['A', 'B', 'A'],['B', 'A', 'B'],['A', 'B', 'A']]))\n",
        "\n",
        "    assert np.array_equal(chess(2, 2, 0, 1), \n",
        "                       np.array([[0, 1],\n",
        "                                [1, 0]]))\n",
        "    \n",
        "    assert np.array_equal(chess(4, 4, -1, 1), \n",
        "                       np.array([[-1,  1, -1,  1],\n",
        "                                [ 1, -1,  1, -1],\n",
        "                                [-1,  1, -1,  1],\n",
        "                                [ 1, -1,  1, -1]]))\n",
        "    \n",
        "    print(\"Tests passed\")\n",
        "\n",
        "tests()\n",
        "    "
      ]
    },
    {
      "cell_type": "markdown",
      "metadata": {
        "id": "-ymXLtTN0vB6"
      },
      "source": [
        "<h1>Задача 6. Напишите функцию, которая отрисовывает прямоугольник с заданными размерами (a, b) на изображении размера (m, n), цвет фона задайте в схеме RGB, как и цвет прямоугольника. Цвета также должны быть параметрами функции. Напишите аналогичную функцию но для овала с полуосями a и b. Напишите тесты для кода.\n",
        "Примечание: уравнение эллипса (границы овала) можно записать как:\n",
        "<h1>$\\frac{(x-x_0)^2}{a^2}+\\frac{(y-y_0)^2}{b^2}=1$"
      ]
    },
    {
      "cell_type": "code",
      "execution_count": 101,
      "metadata": {
        "id": "sNfl1t_kfOF4"
      },
      "outputs": [
        {
          "data": {
            "image/png": "[encoded data removed]",
            "text/plain": [
              "<Figure size 640x480 with 1 Axes>"
            ]
          },
          "metadata": {},
          "output_type": "display_data"
        },
        {
          "data": {
            "image/png": "[encoded data removed]",
            "text/plain": [
              "<Figure size 640x480 with 1 Axes>"
            ]
          },
          "metadata": {},
          "output_type": "display_data"
        }
      ],
      "source": [
        "def draw_rectangle(image, m, n, a, b, bg_color, color):\n",
        "    image[:,:] = bg_color\n",
        "    image[len(image[0]) // 2 - a:len(image[0]) // 2 + a, len(image[1]) // 2 - b:len(image[1]) // 2 + b] = color\n",
        "\n",
        "def draw_ellipse(image, m, n, a, b, bg_color, color):\n",
        "    image[:,:] = bg_color\n",
        "    y, x = np.ogrid[:m, :n]\n",
        "    mask = ((x - n // 2) ** 2 / a ** 2 + (y - m // 2) ** 2 / b ** 2) <= 1\n",
        "    image[mask] = color\n",
        "\n",
        "m, n = 100, 100\n",
        "image = np.zeros((m, n, 3), dtype=np.uint8)\n",
        "bg_color = (255, 255, 0)\n",
        "rect_color = (0, 0, 0)\n",
        "ellipse_color = (0, 0, 255)\n",
        "\n",
        "draw_rectangle(image, m, n, 15, 20, bg_color, rect_color)\n",
        "plt.imshow(image)\n",
        "plt.show()\n",
        "\n",
        "draw_ellipse(image, m, n, 15, 20, bg_color, ellipse_color)\n",
        "plt.imshow(image)\n",
        "plt.show()"
      ]
    },
    {
      "cell_type": "markdown",
      "metadata": {
        "id": "S82c38oz244H"
      },
      "source": [
        "<h1>Задача 7. Дан некий временной ряд. Для данного ряда нужно найти его: математическое ожидание, дисперсию, СКО, найти все локальные максимумы и минимумы (локальный максимум - это точка, которая больше своих соседних точек, а локальный минимум - это точка, которая меньше своих соседей), а также вычислить для данного ряда другой ряд, получаемый методом скользящего среднего с размером окна $p$.\n",
        "<h1>Примечание: метод скользящего среднего подразумевает нахождение среднего из подмножетсва ряда размером $p$"
      ]
    },
    {
      "cell_type": "code",
      "execution_count": 102,
      "metadata": {
        "id": "Zb9mIVge5MMt"
      },
      "outputs": [
        {
          "name": "stdout",
          "output_type": "stream",
          "text": [
            "ts: [1 2 3 4 3 2 5 6 8 3]\n",
            "Мат.ожидание: 3.7\n",
            "Дисперсия: 4.01\n",
            "СКО: 2.0024984394500787\n",
            "Локальные максимумы:: [np.int64(4), np.int64(8)]\n",
            "Локальные минимумы: [np.int64(2)]\n",
            "Метод скользящего среднего: [2.5  3.   3.   3.5  4.   5.25 5.5 ]\n"
          ]
        }
      ],
      "source": [
        "def analyze(ts, p):\n",
        "\n",
        "    mean = np.mean(ts)\n",
        "    var = np.var(ts)\n",
        "    std = np.std(ts)\n",
        "\n",
        "    localMin = []\n",
        "    localMax = []\n",
        "    for i in range(1, len(ts) - 1):\n",
        "        if  ts[i - 1] > ts[i] and ts[i] < ts[i + 1]:\n",
        "            localMin.append(ts[i])\n",
        "        if ts[i - 1] < ts[i] and ts[i] > ts[i + 1]:\n",
        "            localMax.append(ts[i])\n",
        "\n",
        "    smoothedSeries = np.convolve(ts, np.ones(p), mode='valid') / p\n",
        "\n",
        "    return mean, var, std, localMax, localMin, smoothedSeries\n",
        "\n",
        "ts = np.array([1,2,3,4,3,2,5,6,8,3])\n",
        "print(f\"ts: {ts}\")\n",
        "\n",
        "mean, var, std, localMax, localMin, smoothedSeries = analyze(ts, 4)\n",
        "\n",
        "print(f\"Мат.ожидание: {mean}\")\n",
        "print(f\"Дисперсия: {var}\")\n",
        "print(f\"СКО: {std}\")\n",
        "print(f\"Локальные максимумы:: {localMax}\")\n",
        "print(f\"Локальные минимумы: {localMin}\")\n",
        "print(f\"Метод скользящего среднего: {smoothedSeries}\")"
      ]
    },
    {
      "cell_type": "markdown",
      "metadata": {
        "id": "jPkylmOX5O9n"
      },
      "source": [
        "<h1> Задача 8. Дан некоторый вектор с целочисленными метками классов, напишите функцию, которая выполняет one-hot-encoding для данного вектора\n",
        "<h1> One-hot-encoding - представление, в котором на месте метки некоторого класса стоит 1, в остальных позициях стоит 0. Например для вектора [0, 2, 3, 0] one-hot-encoding выглядит как: [[1, 0, 0, 0], [0, 0, 1, 0], [0, 0, 0, 1], [1, 0, 0, 0]]"
      ]
    },
    {
      "cell_type": "code",
      "execution_count": 108,
      "metadata": {
        "id": "Y-jlnZvw56lD"
      },
      "outputs": [
        {
          "name": "stdout",
          "output_type": "stream",
          "text": [
            "[[1 0 0 0]\n",
            " [0 0 1 0]\n",
            " [0 0 0 1]\n",
            " [1 0 0 0]]\n",
            "[[0 1 0 0 0]\n",
            " [1 0 0 0 0]\n",
            " [0 0 1 0 0]\n",
            " [0 1 0 0 0]\n",
            " [0 0 0 1 0]]\n"
          ]
        }
      ],
      "source": [
        "def one_hot_encoding(labels):\n",
        "    return np.eye(len(labels), dtype=int)[labels]\n",
        "\n",
        "print(one_hot_encoding([0,2,3,0]))\n",
        "print(one_hot_encoding([1, 0, 2, 1, 3]))"
      ]
    }
  ],
  "metadata": {
    "colab": {
      "provenance": []
    },
    "kernelspec": {
      "display_name": ".venv",
      "language": "python",
      "name": "python3"
    },
    "language_info": {
      "codemirror_mode": {
        "name": "ipython",
        "version": 3
      },
      "file_extension": ".py",
      "mimetype": "text/x-python",
      "name": "python",
      "nbconvert_exporter": "python",
      "pygments_lexer": "ipython3",
      "version": "3.11.9"
    }
  },
  "nbformat": 4,
  "nbformat_minor": 0
}
