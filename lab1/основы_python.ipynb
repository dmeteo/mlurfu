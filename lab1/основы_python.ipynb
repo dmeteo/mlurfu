{
  "cells": [
    {
      "cell_type": "markdown",
      "metadata": {
        "id": "M-DGa20PaHnu"
      },
      "source": [
        "#Задача 1\n",
        "Написать функцию на вход которой подается строка, состоящая из латинских букв.\n",
        "Функция должна вернуть количество гласных букв (a, e, i, o, u) в этой строке. Написать тесты для кода"
      ]
    },
    {
      "cell_type": "code",
      "execution_count": null,
      "metadata": {
        "id": "XvX8X_JJ6PCb"
      },
      "outputs": [
        {
          "name": "stdout",
          "output_type": "stream",
          "text": [
            "Test passed\n"
          ]
        }
      ],
      "source": [
        "def count_vowel(string: str) -> int:\n",
        "    vowels = {'a': 0, 'e': 0, 'i': 0, 'o': 0, 'u': 0}\n",
        "    for vowel in vowels:\n",
        "        vowels[vowel] = string.count(vowel)\n",
        "    return vowels\n",
        "\n",
        "def tests():\n",
        "    assert count_vowel(\"aaaabbbb\") == {'a': 4, 'e': 0, 'i': 0, 'o': 0, 'u': 0}\n",
        "    assert count_vowel(\"bbbbbbbbb\") == {'a': 0, 'e': 0, 'i': 0, 'o': 0, 'u': 0}\n",
        "    assert count_vowel(\"aaaauuuu\") == {'a': 4, 'e': 0, 'i': 0, 'o': 0, 'u': 4}\n",
        "    print(\"Test passed\")\n",
        "\n",
        "\n",
        "tests()"
      ]
    },
    {
      "cell_type": "markdown",
      "metadata": {
        "id": "t2ClV_Y0bbr6"
      },
      "source": [
        "# Задача 2\n",
        "Написать функцию на вход, которой подается строка. Функция должна вернуть true, если\n",
        "каждый символ в строке встречается только 1 раз, иначе должна вернуть false. Написать тесты для кода"
      ]
    },
    {
      "cell_type": "code",
      "execution_count": 15,
      "metadata": {
        "id": "FppbECao6VIz"
      },
      "outputs": [
        {
          "name": "stdout",
          "output_type": "stream",
          "text": [
            "Test passed\n"
          ]
        }
      ],
      "source": [
        "def one_symbol(string: str) -> bool:\n",
        "    if len(set(string)) == len(string):\n",
        "        return True\n",
        "    return False\n",
        "\n",
        "def tests():\n",
        "    assert one_symbol(\"123456\") == True\n",
        "    assert one_symbol(\"1223456\") == False\n",
        "    assert one_symbol(\"3\") == True\n",
        "    assert one_symbol(\"\") == True\n",
        "    print(\"Test passed\")\n",
        "\n",
        "tests()"
      ]
    },
    {
      "cell_type": "markdown",
      "metadata": {
        "id": "udRiIK1cdt6E"
      },
      "source": [
        "# Задача 3\n",
        "Написать функцию, которая принимает положительное число и возвращает количество\n",
        "бит равных 1 в этом числе. Написать тесты для кода"
      ]
    },
    {
      "cell_type": "code",
      "execution_count": null,
      "metadata": {
        "id": "6tkfDJRz6dp_"
      },
      "outputs": [],
      "source": [
        "def count_bits(n: int) -> int:\n",
        "    return bin(n).count('1')\n",
        "\n",
        "def tests():\n",
        "    assert count_bits(0) == 0 \n",
        "    assert count_bits(1) == 1 \n",
        "    assert count_bits(2) == 1\n",
        "    assert count_bits(3) == 2\n",
        "    assert count_bits(5) == 2 \n",
        "    assert count_bits(255) == 8  \n",
        "\n",
        "tests()"
      ]
    },
    {
      "cell_type": "markdown",
      "metadata": {
        "id": "26dDUz-Ae17N"
      },
      "source": [
        "# Задача 4\n",
        "Написать функцию, которая принимает положительное число. Функция должна вернуть то,\n",
        "сколько раз необходимо перемножать цифры числа или результат перемножения, чтобы\n",
        "получилось число состоящее из одной цифры.\n",
        "Например, для входного числа:\n",
        "· 39 функция должна вернуть 3, так как 3*9=27 => 2*7=14 => 1*4=4\n",
        "· 4 функция должна вернуть 0, так как число уже состоит из одной цифры\n",
        "· 999 функция должна вернуть 4, так как 9*9*9=729 => 7*2*9=126 => 1*2*6=12 =>\n",
        "1*2=2. Написать тесты для кода"
      ]
    },
    {
      "cell_type": "code",
      "execution_count": 23,
      "metadata": {
        "id": "BH1A_Mgi6i4G"
      },
      "outputs": [
        {
          "name": "stdout",
          "output_type": "stream",
          "text": [
            "Tests passed\n"
          ]
        }
      ],
      "source": [
        "def magic(n):\n",
        "    steps = 0\n",
        "    while n >= 10:\n",
        "        product = 1\n",
        "        for digit in str(n):\n",
        "            product *= int(digit)\n",
        "        n = product\n",
        "        steps += 1\n",
        "    return steps\n",
        "\n",
        "def tests():\n",
        "    assert magic(4) == 0 \n",
        "    assert magic(39) == 3\n",
        "    assert magic(999) == 4  \n",
        "    assert magic(25) == 2    \n",
        "    print(\"Tests passed\")\n",
        "\n",
        "tests()"
      ]
    },
    {
      "cell_type": "markdown",
      "metadata": {
        "id": "0nS-kIa8g8vd"
      },
      "source": [
        "# Задача 5\n",
        "Написать функцию, которая принимает два целочисленных вектора одинаковой длины и\n",
        "возвращает среднеквадратическое отклонение двух векторов. Написать тесты для кода"
      ]
    },
    {
      "cell_type": "code",
      "execution_count": 34,
      "metadata": {
        "id": "8iphx4LM6xbx"
      },
      "outputs": [
        {
          "name": "stdout",
          "output_type": "stream",
          "text": [
            "Tests passed\n"
          ]
        }
      ],
      "source": [
        "import math\n",
        "\n",
        "def mse(pred, true):\n",
        "    squared_errors = [(p - t)**2 for p, t in zip(pred, true)]\n",
        "    return sum(squared_errors) / len(squared_errors)\n",
        "\n",
        "def test_mse():\n",
        "    assert mse([1, 2, 3], [1, 2, 3]) == 0.0\n",
        "    \n",
        "    assert mse([1, 2, 3], [4, 5, 6]) == 9.0\n",
        "    \n",
        "    assert mse([-1, -2, -3], [1, 2, 3]) == 56/3\n",
        "    \n",
        "    assert mse([5], [8]) == 9.0\n",
        "    \n",
        "    print(\"Tests passed\")\n",
        "\n",
        "# Запуск тестов\n",
        "test_mse()"
      ]
    },
    {
      "cell_type": "markdown",
      "metadata": {
        "id": "vpIPKL439zkw"
      },
      "source": [
        "# Задача 6\n",
        "Написать функцию, принимающая целое положительное число. Функция должна вернуть\n",
        "строку вида “(n1**p1)(n2**p2)…(nk**pk)” представляющая разложение числа на простые\n",
        "множители (если pi == 1, то выводить только ni).\n",
        "Например, для числа 86240 функция должна вернуть “(2**5)(5)(7**2)(11)”. Написать тесты для кода"
      ]
    },
    {
      "cell_type": "code",
      "execution_count": 40,
      "metadata": {
        "id": "pFebmcZk94Jw"
      },
      "outputs": [
        {
          "name": "stdout",
          "output_type": "stream",
          "text": [
            "Tests passed\n"
          ]
        }
      ],
      "source": [
        "def prime_factors(n):\n",
        "    if n == 1:\n",
        "        return \"(1)\"\n",
        "    \n",
        "    result = []\n",
        "    deleter = 2\n",
        "    \n",
        "    while n > 1:\n",
        "        count = 0\n",
        "        while n % deleter == 0:\n",
        "            count += 1\n",
        "            n = n // deleter\n",
        "        \n",
        "        if count > 0:\n",
        "            if count == 1:\n",
        "                result.append(f\"({deleter})\")\n",
        "            else:\n",
        "                result.append(f\"({deleter}**{count})\")\n",
        "        \n",
        "        deleter += 1\n",
        "    \n",
        "    return \"\".join(result)\n",
        "\n",
        "def tests():\n",
        "    assert prime_factors(86240) == \"(2**5)(5)(7**2)(11)\"\n",
        "    assert prime_factors(10) == \"(2)(5)\"\n",
        "    assert prime_factors(8) == \"(2**3)\"\n",
        "\n",
        "    print('Tests passed')\n",
        "\n",
        "tests()"
      ]
    },
    {
      "cell_type": "markdown",
      "metadata": {
        "id": "ps2s0BudX7A2"
      },
      "source": [
        "# Задача 7\n",
        "Написать функцию, принимающая целое число n, задающее количество кубиков. Функция\n",
        "должна определить, можно ли из данного кол-ва кубиков построить пирамиду, то есть\n",
        "можно ли представить число n как 1^2+2^2+3^2+…+k^2. Если можно, то функция должна\n",
        "вернуть k, иначе строку “It is impossible”. Написать тесты для кода"
      ]
    },
    {
      "cell_type": "code",
      "execution_count": 43,
      "metadata": {
        "id": "3YPjEXxhX_YT"
      },
      "outputs": [
        {
          "name": "stdout",
          "output_type": "stream",
          "text": [
            "Tests passed\n"
          ]
        }
      ],
      "source": [
        "def pyramid(number):\n",
        "    if number < 1:\n",
        "        return \"It is impossible\"\n",
        "    \n",
        "    k = 1\n",
        "    total = 0\n",
        "    \n",
        "    while True:\n",
        "        total += k ** 2\n",
        "        if total == number:\n",
        "            return k\n",
        "        if total > number:\n",
        "            return \"It is impossible\"\n",
        "        k += 1\n",
        "\n",
        "def tests():\n",
        "    assert pyramid(1) == 1\n",
        "    assert pyramid(5) == 2\n",
        "    assert pyramid(14) == 3\n",
        "    assert pyramid(30) == 4\n",
        "    assert pyramid(4) == \"It is impossible\"\n",
        "    assert pyramid(0) == \"It is impossible\"\n",
        "    assert pyramid(-5)== \"It is impossible\"\n",
        "    print(\"Tests passed\")\n",
        "\n",
        "tests()"
      ]
    },
    {
      "cell_type": "markdown",
      "metadata": {
        "id": "KeKgmIdAQMEJ"
      },
      "source": [
        "# Задача 8\n",
        "Функция принимает на вход положительное число и определяет является ли оно сбалансированным, т.е. сумма цифр до средних равна сумме цифр после. Средними в случае нечетного числа цифр считать одну цифру, в случае четного - две средних. Написать тесты для кода"
      ]
    },
    {
      "cell_type": "code",
      "execution_count": 44,
      "metadata": {
        "id": "gMAAqtqlQrZt"
      },
      "outputs": [
        {
          "name": "stdout",
          "output_type": "stream",
          "text": [
            "Tests passed\n"
          ]
        }
      ],
      "source": [
        "def is_balanced(number):\n",
        "    digits = [int(d) for d in str(number)]\n",
        "    length = len(digits)\n",
        "    \n",
        "    if length == 1:\n",
        "        return True\n",
        "    \n",
        "    if length % 2 == 1:\n",
        "        mid = length // 2\n",
        "        left = digits[:mid]\n",
        "        right = digits[mid+1:]\n",
        "    else:\n",
        "        mid = length // 2\n",
        "        left = digits[:mid-1]\n",
        "        right = digits[mid+1:]\n",
        "    \n",
        "    return sum(left) == sum(right)\n",
        "\n",
        "def tests():\n",
        "    assert is_balanced(12321) == True\n",
        "    assert is_balanced(121) == True\n",
        "    assert is_balanced(123) == False\n",
        "    \n",
        "    assert is_balanced(123321) == True\n",
        "    assert is_balanced(1111) == True\n",
        "    assert is_balanced(1122) == False\n",
        "    assert is_balanced(1221) == True \n",
        "    \n",
        "    assert is_balanced(7) == True\n",
        "    assert is_balanced(11) == True\n",
        "    assert is_balanced(0) == True\n",
        "    print(\"Tests passed\")\n",
        "\n",
        "tests()"
      ]
    }
  ],
  "metadata": {
    "colab": {
      "provenance": []
    },
    "kernelspec": {
      "display_name": ".venv",
      "language": "python",
      "name": "python3"
    },
    "language_info": {
      "codemirror_mode": {
        "name": "ipython",
        "version": 3
      },
      "file_extension": ".py",
      "mimetype": "text/x-python",
      "name": "python",
      "nbconvert_exporter": "python",
      "pygments_lexer": "ipython3",
      "version": "3.10.6"
    }
  },
  "nbformat": 4,
  "nbformat_minor": 0
}
